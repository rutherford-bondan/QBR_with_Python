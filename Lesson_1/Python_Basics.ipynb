{
 "cells": [
  {
   "cell_type": "markdown",
   "metadata": {},
   "source": [
    "# Variables & types"
   ]
  },
  {
   "cell_type": "code",
   "execution_count": null,
   "metadata": {},
   "outputs": [],
   "source": [
    "var = 10\n",
    "print(var)\n",
    "print(var + 1)"
   ]
  },
  {
   "cell_type": "code",
   "execution_count": null,
   "metadata": {},
   "outputs": [],
   "source": [
    "# Variable names are case-sensitive!\n",
    "Var = 11\n",
    "print(var)\n",
    "print(Var)"
   ]
  },
  {
   "cell_type": "code",
   "execution_count": null,
   "metadata": {},
   "outputs": [],
   "source": [
    "# Valid names\n",
    "x = 5\n",
    "some_variable_name55 = 'hello'\n",
    "NotByTheConventionsButStillValid = 3.14\n",
    "\n",
    "print(NotByTheConventionsButStillValid + x)\n",
    "print(x * some_variable_name55)"
   ]
  },
  {
   "cell_type": "code",
   "execution_count": null,
   "metadata": {},
   "outputs": [],
   "source": [
    "# Some invalid names\n",
    "2morrow = 'Wednesday'\n",
    "variable! = '!'"
   ]
  },
  {
   "cell_type": "code",
   "execution_count": null,
   "metadata": {},
   "outputs": [],
   "source": [
    "a, b, c = 1, 2, 3\n",
    "print(a + b + c)\n",
    "a = 9\n",
    "print(a + b + c)"
   ]
  },
  {
   "cell_type": "code",
   "execution_count": null,
   "metadata": {},
   "outputs": [],
   "source": [
    "a, b, c = 1, 2, 3, 4\n",
    "a, b, c = 1, 2"
   ]
  },
  {
   "cell_type": "code",
   "execution_count": null,
   "metadata": {},
   "outputs": [],
   "source": [
    "_, x, y, _ = 1, 2, 3, 4\n",
    "print(x, y)\n",
    "print(_)"
   ]
  },
  {
   "cell_type": "code",
   "execution_count": null,
   "metadata": {},
   "outputs": [],
   "source": [
    "print(x)\n",
    "print(type(x))"
   ]
  },
  {
   "cell_type": "code",
   "execution_count": null,
   "metadata": {},
   "outputs": [],
   "source": [
    "print(type(4), type(3.14), type('some string'))"
   ]
  },
  {
   "cell_type": "code",
   "execution_count": null,
   "metadata": {},
   "outputs": [],
   "source": [
    "t = type(x)\n",
    "print(type(t))"
   ]
  },
  {
   "cell_type": "code",
   "execution_count": null,
   "metadata": {},
   "outputs": [],
   "source": [
    "print(type(type(t)))\n",
    "print(type(t) == type(type(t)))"
   ]
  },
  {
   "cell_type": "code",
   "execution_count": null,
   "metadata": {},
   "outputs": [],
   "source": [
    "a = None\n",
    "print(a)\n",
    "print(type(a))\n",
    "print(type(type(a)))"
   ]
  },
  {
   "cell_type": "code",
   "execution_count": null,
   "metadata": {},
   "outputs": [],
   "source": [
    "# Booleans\n",
    "\n",
    "a = 5\n",
    "b = 3\n",
    "\n",
    "print(a == b) # False\n",
    "print(a == b + 2) # True\n",
    "print(a != b) # True\n",
    "\n",
    "print('*' * 20)\n",
    "\n",
    "print(a > b) # True\n",
    "print(a > a) # False\n",
    "print(a >= a) # True\n",
    "print(a < b) # False\n",
    "print(a <= b) # False"
   ]
  },
  {
   "cell_type": "code",
   "execution_count": null,
   "metadata": {},
   "outputs": [],
   "source": [
    "condition = (a > b)\n",
    "print(condition)\n",
    "print(type(condition))"
   ]
  },
  {
   "cell_type": "code",
   "execution_count": null,
   "metadata": {},
   "outputs": [],
   "source": [
    "condition1, condition2 = True, False\n",
    "print(condition1, condition2)"
   ]
  },
  {
   "cell_type": "code",
   "execution_count": null,
   "metadata": {},
   "outputs": [],
   "source": [
    "print((5 > 3) and (2 > 3)) # True and False = False\n",
    "print((5 > 3) or (2 > 3)) # True or False = True\n",
    "print(not (5 > 3)) # not True = False\n",
    "print(not False) # True"
   ]
  },
  {
   "cell_type": "code",
   "execution_count": null,
   "metadata": {},
   "outputs": [],
   "source": [
    "print(3 == '3') # False\n",
    "print(3 != '3') # True\n",
    "print(3 == 3.0) # True\n",
    "print(3 == None) # False"
   ]
  },
  {
   "cell_type": "code",
   "execution_count": null,
   "metadata": {},
   "outputs": [],
   "source": [
    "print(3 > '3') # Not supported in Python 3, False in Python 2"
   ]
  },
  {
   "cell_type": "code",
   "execution_count": null,
   "metadata": {},
   "outputs": [],
   "source": [
    "# For numbers: 0 is treated as False, all other (non-zero) numbers as True\n",
    "print(bool(1)) # True\n",
    "print(bool(51512)) # True\n",
    "print(bool(0)) # False\n",
    "print(bool(0.0000000001)) # True\n",
    "\n",
    "# For strings: an empty string is treated as False, non-empty strings as True\n",
    "print(bool('0')) # True\n",
    "print(bool('')) # False\n",
    "\n",
    "# None is treatd as False\n",
    "print(bool(None)) # False"
   ]
  },
  {
   "cell_type": "code",
   "execution_count": null,
   "metadata": {},
   "outputs": [],
   "source": [
    "# This is a comment\n",
    "\n",
    "'''\n",
    "This is\n",
    "a long\n",
    "comment.\n",
    "'''\n",
    "\n",
    "\"\"\"\n",
    "Also this.\n",
    "\"\"\""
   ]
  },
  {
   "cell_type": "code",
   "execution_count": null,
   "metadata": {},
   "outputs": [],
   "source": [
    "# Commented out code\n",
    "\n",
    "# print(5 + 3)\n",
    "# print(5 - 3)"
   ]
  },
  {
   "cell_type": "markdown",
   "metadata": {},
   "source": [
    "# Numbers"
   ]
  },
  {
   "cell_type": "code",
   "execution_count": null,
   "metadata": {},
   "outputs": [],
   "source": [
    "x = 2\n",
    "y = 2.71828182846\n",
    "print(type(x), type(y))\n",
    "print(x + y)"
   ]
  },
  {
   "cell_type": "code",
   "execution_count": null,
   "metadata": {},
   "outputs": [],
   "source": [
    "print(5 / 2) # Different in Python 2, unless: from __future__ import division\n",
    "print(5 // 2)\n",
    "print(4 / 2)"
   ]
  },
  {
   "cell_type": "code",
   "execution_count": null,
   "metadata": {},
   "outputs": [],
   "source": [
    "print(5 / 0)"
   ]
  },
  {
   "cell_type": "code",
   "execution_count": null,
   "metadata": {},
   "outputs": [],
   "source": [
    "print(5 % 3)"
   ]
  },
  {
   "cell_type": "code",
   "execution_count": null,
   "metadata": {
    "scrolled": true
   },
   "outputs": [],
   "source": [
    "print(5 ** 2712)"
   ]
  },
  {
   "cell_type": "code",
   "execution_count": null,
   "metadata": {},
   "outputs": [],
   "source": [
    "print(5.0 ** 2712.0)"
   ]
  },
  {
   "cell_type": "code",
   "execution_count": null,
   "metadata": {},
   "outputs": [],
   "source": [
    "print(5.0 ** 123.0)\n",
    "print(5.0 ** -123.0)\n",
    "print(4e05)\n",
    "print(4e-03)\n",
    "print(1e06 == 10 ** 6)\n",
    "print(10e06 == 10 ** 6)"
   ]
  },
  {
   "cell_type": "code",
   "execution_count": null,
   "metadata": {},
   "outputs": [],
   "source": [
    "print(3.14 ** 2.71)\n",
    "print((-3.14) ** 2.71) # Results a complex number in Python 3"
   ]
  },
  {
   "cell_type": "code",
   "execution_count": null,
   "metadata": {},
   "outputs": [],
   "source": [
    "print(2 * 3 + 4) # 6 + 4 = 10\n",
    "print(2 * (3 + 4)) # 2 *  7 = 14\n",
    "print((2 * 3) + 4) # 6 + 4 = 10"
   ]
  },
  {
   "cell_type": "code",
   "execution_count": null,
   "metadata": {},
   "outputs": [],
   "source": [
    "x = int('5')\n",
    "y = float('7.7')\n",
    "print(x, y, x + y)\n",
    "print(float('5'))"
   ]
  },
  {
   "cell_type": "code",
   "execution_count": null,
   "metadata": {},
   "outputs": [],
   "source": [
    "print(int('7.7'))"
   ]
  },
  {
   "cell_type": "code",
   "execution_count": null,
   "metadata": {},
   "outputs": [],
   "source": [
    "print(int(float('7.7')))"
   ]
  },
  {
   "cell_type": "code",
   "execution_count": null,
   "metadata": {},
   "outputs": [],
   "source": [
    "print(int(True), int(False), float(True), float(False))"
   ]
  },
  {
   "cell_type": "code",
   "execution_count": null,
   "metadata": {},
   "outputs": [],
   "source": [
    "print(int(bool(5)))"
   ]
  },
  {
   "cell_type": "code",
   "execution_count": null,
   "metadata": {},
   "outputs": [],
   "source": [
    "x = 5\n",
    "x += 5 # 10\n",
    "print(x)\n",
    "\n",
    "x -= 3 # 7\n",
    "print(x)\n",
    "\n",
    "x *= 5 # 35\n",
    "print(x)\n",
    "\n",
    "x //= 5 # 7\n",
    "print(x)\n",
    "\n",
    "x /= 6\n",
    "print(x)\n",
    "\n",
    "x **= 6\n",
    "print(x)"
   ]
  },
  {
   "cell_type": "markdown",
   "metadata": {},
   "source": [
    "# Strings"
   ]
  },
  {
   "cell_type": "code",
   "execution_count": null,
   "metadata": {},
   "outputs": [],
   "source": [
    "s1 = 'This is a string'\n",
    "s2 = \"This is also a string\"\n",
    "print(s1)\n",
    "print(s2)\n",
    "print(s1 + '. ' + s2 + '.')"
   ]
  },
  {
   "cell_type": "code",
   "execution_count": null,
   "metadata": {},
   "outputs": [],
   "source": [
    "# Special chars\n",
    "print('### Title ###\\na:\\t5\\nb:\\t6')"
   ]
  },
  {
   "cell_type": "code",
   "execution_count": null,
   "metadata": {},
   "outputs": [],
   "source": [
    "# Escaping\n",
    "print('### Title ###\\\\na:\\\\t5\\\\nb:\\\\t6')"
   ]
  },
  {
   "cell_type": "code",
   "execution_count": null,
   "metadata": {},
   "outputs": [],
   "source": [
    "print(r'### Title ###\\na:\\t5\\nb:\\t6')"
   ]
  },
  {
   "cell_type": "code",
   "execution_count": null,
   "metadata": {},
   "outputs": [],
   "source": [
    "print('Don\\'t', \"Don't\")"
   ]
  },
  {
   "cell_type": "code",
   "execution_count": null,
   "metadata": {},
   "outputs": [],
   "source": [
    "print(8 * 'cat ')\n",
    "print('cat ' * 8)"
   ]
  },
  {
   "cell_type": "code",
   "execution_count": null,
   "metadata": {},
   "outputs": [],
   "source": [
    "text = 'ABCDEFGHIJKLMNOPQRSTUVWXYZ'\n",
    "print(text)\n",
    "print(len(text))\n",
    "print(type(len(text)))"
   ]
  },
  {
   "cell_type": "code",
   "execution_count": null,
   "metadata": {},
   "outputs": [],
   "source": [
    "print(text[0])\n",
    "print(text[4])\n",
    "print(text[-1])\n",
    "print(text[-4])\n",
    "print(type(text[0]))"
   ]
  },
  {
   "cell_type": "code",
   "execution_count": null,
   "metadata": {},
   "outputs": [],
   "source": [
    "print(text[0:5])\n",
    "print(text[7:-7])\n",
    "print(text[7:])\n",
    "print(text[:-7])\n",
    "print(text[:3])"
   ]
  },
  {
   "cell_type": "code",
   "execution_count": null,
   "metadata": {},
   "outputs": [],
   "source": [
    "print(text[0:10:3])\n",
    "print(text[:10:3])\n",
    "print(text[::3])\n",
    "print(text[::-3])"
   ]
  },
  {
   "cell_type": "code",
   "execution_count": null,
   "metadata": {},
   "outputs": [],
   "source": [
    "print(text[::-1])"
   ]
  },
  {
   "cell_type": "code",
   "execution_count": null,
   "metadata": {},
   "outputs": [],
   "source": [
    "s1 = str(5)\n",
    "s2 = str(5.0)\n",
    "print(s1 + '\\n' + s2 + '\\n')\n",
    "print(str(6 > 3))"
   ]
  },
  {
   "cell_type": "code",
   "execution_count": null,
   "metadata": {},
   "outputs": [],
   "source": [
    "s = 'text'\n",
    "print(s)\n",
    "print(str(s))\n",
    "print(s == str(s))"
   ]
  },
  {
   "cell_type": "code",
   "execution_count": null,
   "metadata": {},
   "outputs": [],
   "source": [
    "print(repr(s))\n",
    "print(s == repr(s))"
   ]
  },
  {
   "cell_type": "code",
   "execution_count": null,
   "metadata": {},
   "outputs": [],
   "source": [
    "s"
   ]
  },
  {
   "cell_type": "code",
   "execution_count": null,
   "metadata": {},
   "outputs": [],
   "source": [
    "s += ' 123\\t'\n",
    "print(s)\n",
    "\n",
    "s *= 3\n",
    "print(s)"
   ]
  },
  {
   "cell_type": "code",
   "execution_count": null,
   "metadata": {},
   "outputs": [],
   "source": [
    "very_long_string = 'This is a very very very long string and there is no problem with that, but we will have to break it ' + \\\n",
    "        'such that it will extend to more than one line'\n",
    "print(very_long_string)"
   ]
  },
  {
   "cell_type": "code",
   "execution_count": null,
   "metadata": {},
   "outputs": [],
   "source": [
    "very_long_string = '''This is another very long string.\n",
    "This one really goes down to more than one line.\n",
    "Every new line here really becomes a new line.'''\n",
    "\n",
    "print(very_long_string)"
   ]
  },
  {
   "cell_type": "code",
   "execution_count": null,
   "metadata": {},
   "outputs": [],
   "source": [
    "string = 'An elephant'\n",
    "substring = 'n el'\n",
    "contained = substring in string\n",
    "print(contained)"
   ]
  },
  {
   "cell_type": "markdown",
   "metadata": {},
   "source": [
    "# Conditions & loops"
   ]
  },
  {
   "cell_type": "code",
   "execution_count": null,
   "metadata": {},
   "outputs": [],
   "source": [
    "a = 6\n",
    "b = 4\n",
    "\n",
    "if a > b:\n",
    "    print('a > b')\n",
    "else:\n",
    "    print('a < b')"
   ]
  },
  {
   "cell_type": "code",
   "execution_count": null,
   "metadata": {},
   "outputs": [],
   "source": [
    "# Indentation in Python is MUST\n",
    "\n",
    "if 5 > 3:\n",
    "print('...')"
   ]
  },
  {
   "cell_type": "code",
   "execution_count": null,
   "metadata": {},
   "outputs": [],
   "source": [
    "if 5 > 3:\n",
    "    print('Ok')\n",
    "    if 5 > 3:\n",
    "     print('Not recommended!')"
   ]
  },
  {
   "cell_type": "code",
   "execution_count": null,
   "metadata": {},
   "outputs": [],
   "source": [
    "# So are colons\n",
    "if 5 > 3\n",
    "    print('Error')"
   ]
  },
  {
   "cell_type": "code",
   "execution_count": null,
   "metadata": {},
   "outputs": [],
   "source": [
    "condition1 = a > b\n",
    "condition2 = a > b + 3\n",
    "print(condition1, condition2)\n",
    "\n",
    "if condition1:\n",
    "    print('a > b')\n",
    "    \n",
    "if condition2:\n",
    "    print('a > b + 3')\n",
    "    \n",
    "if condition1 == True:\n",
    "    print('There is no reason to compare a boolean variable to True.')"
   ]
  },
  {
   "cell_type": "code",
   "execution_count": null,
   "metadata": {},
   "outputs": [],
   "source": [
    "if a > b + 3:\n",
    "    print('a > b + 3')\n",
    "    \n",
    "if a > b + 2:\n",
    "    print('a > b + 2')\n",
    "    \n",
    "if a > b + 1:\n",
    "    print('a > b + 1')\n",
    "    \n",
    "if a > b:\n",
    "    print('a > b')"
   ]
  },
  {
   "cell_type": "code",
   "execution_count": null,
   "metadata": {},
   "outputs": [],
   "source": [
    "if a > b + 3:\n",
    "    print('a > b + 3')\n",
    "elif a > b + 2:\n",
    "    print('a > b + 2')\n",
    "elif a > b + 1:\n",
    "    print('a > b + 1')\n",
    "elif a > b:\n",
    "    print('a > b')\n",
    "else:\n",
    "    print('a <= b')"
   ]
  },
  {
   "cell_type": "code",
   "execution_count": null,
   "metadata": {},
   "outputs": [],
   "source": [
    "if a > b:\n",
    "    if a > b * 2:\n",
    "        print('a >> b')\n",
    "    else:\n",
    "        print('a > b but not a >> b')\n",
    "else:\n",
    "    print('a <= b')\n",
    "    \n",
    "print('*' * 20)\n",
    "    \n",
    "if a > b and a > b * 2:\n",
    "    print('a >> b')\n",
    "elif a > b and not a > b * 2:\n",
    "    print('a > b but not a >> b')\n",
    "else:\n",
    "    print('a <= b')"
   ]
  },
  {
   "cell_type": "code",
   "execution_count": null,
   "metadata": {},
   "outputs": [],
   "source": [
    "for s in 'some string':\n",
    "    print(s)"
   ]
  },
  {
   "cell_type": "code",
   "execution_count": null,
   "metadata": {},
   "outputs": [],
   "source": [
    "dna = 'AAAATCTTGAGATTCGATATGGGA'\n",
    "A_count = 0\n",
    "\n",
    "for nt in dna:\n",
    "    if nt == 'A':\n",
    "        A_count += 1\n",
    "        \n",
    "print(A_count)"
   ]
  },
  {
   "cell_type": "code",
   "execution_count": null,
   "metadata": {},
   "outputs": [],
   "source": [
    "print(dna.count('A'))\n",
    "print(dna.count('AT'))"
   ]
  },
  {
   "cell_type": "code",
   "execution_count": null,
   "metadata": {},
   "outputs": [],
   "source": [
    "A_count = 0\n",
    "i = 0\n",
    "\n",
    "while i < len(dna):\n",
    "    \n",
    "    if dna[i] == 'A':\n",
    "        A_count += 1\n",
    "    \n",
    "    i += 1\n",
    "    \n",
    "print(A_count)\n",
    "print(i, len(dna))"
   ]
  },
  {
   "cell_type": "code",
   "execution_count": null,
   "metadata": {},
   "outputs": [],
   "source": [
    "import random\n",
    "\n",
    "synthesized_dna = ''\n",
    "synthesized_A = 0\n",
    "\n",
    "while synthesized_A < 9:\n",
    "\n",
    "    r = random.randint(0, 4)\n",
    "\n",
    "    if r == 0:\n",
    "        synthesized_dna += 'A'\n",
    "        synthesized_A += 1\n",
    "    elif r == 1:\n",
    "        synthesized_dna += 'C'\n",
    "    elif r == 2:\n",
    "        synthesized_dna += 'G'\n",
    "    else: # (r == 3)\n",
    "        synthesized_dna += 'T'\n",
    "        \n",
    "print(synthesized_dna)\n",
    "print(synthesized_dna.count('A'))"
   ]
  },
  {
   "cell_type": "code",
   "execution_count": null,
   "metadata": {
    "scrolled": true
   },
   "outputs": [],
   "source": [
    "# while loops are dangerous (they may result infinite loops)\n",
    "\n",
    "import time\n",
    "\n",
    "i = 0\n",
    "\n",
    "while True:\n",
    "    i += 1\n",
    "    print(i)\n",
    "    # That's actually a very important trick for slowing down infinite loops\n",
    "    time.sleep(0.5)"
   ]
  },
  {
   "cell_type": "code",
   "execution_count": null,
   "metadata": {},
   "outputs": [],
   "source": [
    "for s in 'ABCDEFGHIJK':\n",
    "    \n",
    "    if s == 'D':\n",
    "        continue\n",
    "    elif s == 'I':\n",
    "        break\n",
    "    else: # Not really necessary.\n",
    "        pass\n",
    "    \n",
    "    print(s)"
   ]
  },
  {
   "cell_type": "code",
   "execution_count": null,
   "metadata": {},
   "outputs": [],
   "source": [
    "for s1 in 'ABC':\n",
    "    for s2 in '123':\n",
    "        \n",
    "        print(s1 + s2)\n",
    "        \n",
    "        if s1 == 'A' and s2 == '2':\n",
    "            break # Will only affect innermost loop"
   ]
  },
  {
   "cell_type": "markdown",
   "metadata": {},
   "source": [
    "# Lists, tuples, dictionaries & sets"
   ]
  },
  {
   "cell_type": "code",
   "execution_count": null,
   "metadata": {},
   "outputs": [],
   "source": [
    "l = [1, 2, 3, 'a', 4, 5]\n",
    "print(l)\n",
    "print(type(l))\n",
    "print(len(l))\n",
    "print(l[1], l[3])"
   ]
  },
  {
   "cell_type": "code",
   "execution_count": null,
   "metadata": {},
   "outputs": [],
   "source": [
    "print([1, 2, [1, 2]])\n",
    "print([1, 2, [1, 2, [1, 2]]])"
   ]
  },
  {
   "cell_type": "code",
   "execution_count": null,
   "metadata": {},
   "outputs": [],
   "source": [
    "a = [1, 2, 3]\n",
    "a.append(4)\n",
    "print(a)\n",
    "\n",
    "a += [5]\n",
    "print(a)\n",
    "\n",
    "a += [6, 7]\n",
    "print(a)\n",
    "\n",
    "a.extend([8, 9])\n",
    "print(a)\n",
    "\n",
    "a.append([10, 11])\n",
    "a.append([12])\n",
    "print(a)"
   ]
  },
  {
   "cell_type": "code",
   "execution_count": null,
   "metadata": {},
   "outputs": [],
   "source": [
    "l = [1, 2, 3, 4]\n",
    "l.append(l)\n",
    "print(l)\n",
    "print(l[4])\n",
    "print(l == l[4])\n",
    "print(l[4][2])\n",
    "print(l[4][4][4][4][4][4][4][4][2])"
   ]
  },
  {
   "cell_type": "code",
   "execution_count": null,
   "metadata": {},
   "outputs": [],
   "source": [
    "a += 7"
   ]
  },
  {
   "cell_type": "code",
   "execution_count": null,
   "metadata": {},
   "outputs": [],
   "source": [
    "a += [11, 12, 13]\n",
    "print(a)\n",
    "\n",
    "a += a\n",
    "print(a)"
   ]
  },
  {
   "cell_type": "code",
   "execution_count": null,
   "metadata": {},
   "outputs": [],
   "source": [
    "a = [1, 2, 3]\n",
    "print(a * 3)\n",
    "a *= 3\n",
    "print(a)"
   ]
  },
  {
   "cell_type": "code",
   "execution_count": null,
   "metadata": {},
   "outputs": [],
   "source": [
    "print(a[3:8])\n",
    "print(a[::-1])"
   ]
  },
  {
   "cell_type": "code",
   "execution_count": null,
   "metadata": {},
   "outputs": [],
   "source": [
    "bases = list('ACGT')\n",
    "print(bases)\n",
    "print(str(bases))\n",
    "\n",
    "print(''.join(bases))\n",
    "print(' '.join(bases))\n",
    "print(', '.join(bases))"
   ]
  },
  {
   "cell_type": "code",
   "execution_count": null,
   "metadata": {},
   "outputs": [],
   "source": [
    "for b in bases:\n",
    "    print(b)"
   ]
  },
  {
   "cell_type": "code",
   "execution_count": null,
   "metadata": {},
   "outputs": [],
   "source": [
    "for b in 'ACGT':\n",
    "    print(b)"
   ]
  },
  {
   "cell_type": "code",
   "execution_count": null,
   "metadata": {},
   "outputs": [],
   "source": [
    "print('T' in bases) # Trye\n",
    "print('U' in bases) # False\n",
    "\n",
    "print('U' in 'ACGT') # False\n",
    "\n",
    "print('AC' in 'ACGT') # True\n",
    "print('AC' in list('ACGT')) # False"
   ]
  },
  {
   "cell_type": "code",
   "execution_count": null,
   "metadata": {},
   "outputs": [],
   "source": [
    "print(range(10))\n",
    "print(list(range(10)))\n",
    "print('*' * 50)\n",
    "\n",
    "print(list(range(3, 6)))\n",
    "print(list(range(0, 10, 2)))\n",
    "print(list(range(0, 10, -1))) # Won't work\n",
    "print(list(reversed(range(10))))"
   ]
  },
  {
   "cell_type": "code",
   "execution_count": null,
   "metadata": {},
   "outputs": [],
   "source": [
    "for i in range(5):\n",
    "    print(i ** 2)"
   ]
  },
  {
   "cell_type": "code",
   "execution_count": null,
   "metadata": {},
   "outputs": [],
   "source": [
    "some_list = [1, 2, 3]\n",
    "some_tuple = (1, 2, 3)\n",
    "print(some_list, some_tuple)\n",
    "print(some_list == some_tuple) # False"
   ]
  },
  {
   "cell_type": "code",
   "execution_count": null,
   "metadata": {},
   "outputs": [],
   "source": [
    "some_tuple.append(5)"
   ]
  },
  {
   "cell_type": "code",
   "execution_count": null,
   "metadata": {},
   "outputs": [],
   "source": [
    "print(some_tuple + (4, 5))"
   ]
  },
  {
   "cell_type": "code",
   "execution_count": null,
   "metadata": {},
   "outputs": [],
   "source": [
    "a, b, c = some_tuple\n",
    "print(a, b, c)\n",
    "\n",
    "A, B, C = some_list\n",
    "print(A, B, C)"
   ]
  },
  {
   "cell_type": "code",
   "execution_count": null,
   "metadata": {},
   "outputs": [],
   "source": [
    "a, b = some_tuple"
   ]
  },
  {
   "cell_type": "code",
   "execution_count": null,
   "metadata": {},
   "outputs": [],
   "source": [
    "_, b, _ = some_tuple\n",
    "print(b)"
   ]
  },
  {
   "cell_type": "code",
   "execution_count": null,
   "metadata": {},
   "outputs": [],
   "source": [
    "mono_tuple = (1,)\n",
    "print(mono_tuple)\n",
    "a, = mono_tuple\n",
    "print(a)\n",
    "(a,) = mono_tuple\n",
    "print(a)"
   ]
  },
  {
   "cell_type": "markdown",
   "metadata": {},
   "source": [
    "Look out for commas - they are super important!"
   ]
  },
  {
   "cell_type": "code",
   "execution_count": null,
   "metadata": {},
   "outputs": [],
   "source": [
    "s = 'The number is: %d.' % 5\n",
    "print(s)\n",
    "\n",
    "print('The numbers are: %d, %d, %d.' % (5, 6 , 7))\n",
    "print('The number is: %d.' % (5,))\n",
    "\n",
    "print('%s is a string, %d is an integer, %f is a float' % ('blablabla', 6, 6))\n",
    "print('%d' % 5.5)"
   ]
  },
  {
   "cell_type": "code",
   "execution_count": null,
   "metadata": {},
   "outputs": [],
   "source": [
    "# It's important to give a tuple, not a list\n",
    "print('%d and %d' % (1, 2))\n",
    "print('%d and %d' % [1, 2])"
   ]
  },
  {
   "cell_type": "code",
   "execution_count": null,
   "metadata": {},
   "outputs": [],
   "source": [
    "print('%d, %d and %d' % tuple(range(3)))"
   ]
  },
  {
   "cell_type": "code",
   "execution_count": null,
   "metadata": {},
   "outputs": [],
   "source": [
    "print('%d and %d' % tuple(range(3)))"
   ]
  },
  {
   "cell_type": "code",
   "execution_count": null,
   "metadata": {},
   "outputs": [],
   "source": [
    "print('%s' % 5) # Will work\n",
    "print('%d' % '5') # Won't work"
   ]
  },
  {
   "cell_type": "code",
   "execution_count": null,
   "metadata": {},
   "outputs": [],
   "source": [
    "e = 2.71828182846\n",
    "print('e = %.2f' % e)"
   ]
  },
  {
   "cell_type": "code",
   "execution_count": null,
   "metadata": {},
   "outputs": [],
   "source": [
    "dictionary = {1: 'one', 2: 'two', 3: 'three'}\n",
    "print(dictionary)\n",
    "print(type(dictionary))\n",
    "print(dictionary[2])"
   ]
  },
  {
   "cell_type": "code",
   "execution_count": null,
   "metadata": {},
   "outputs": [],
   "source": [
    "print(dictionary[4])"
   ]
  },
  {
   "cell_type": "code",
   "execution_count": null,
   "metadata": {},
   "outputs": [],
   "source": [
    "print(dictionary.get(4))\n",
    "print(dictionary.get(4, 'N/A'))"
   ]
  },
  {
   "cell_type": "code",
   "execution_count": null,
   "metadata": {},
   "outputs": [],
   "source": [
    "print(dictionary.keys())\n",
    "print(dictionary.values())\n",
    "print(dictionary.items())\n",
    "\n",
    "for key, value in dictionary.items():\n",
    "    print('%d maps to %s' % (key, value))"
   ]
  },
  {
   "cell_type": "code",
   "execution_count": null,
   "metadata": {},
   "outputs": [],
   "source": [
    "dictionary[4] = 'four'\n",
    "print(dictionary)\n",
    "\n",
    "another_dict = {5: 'five', 6: 'six'}\n",
    "dictionary.update(another_dict)\n",
    "print(dictionary)\n",
    "\n",
    "del dictionary[3]\n",
    "print(dictionary)"
   ]
  },
  {
   "cell_type": "code",
   "execution_count": null,
   "metadata": {},
   "outputs": [],
   "source": [
    "a = 55\n",
    "del a\n",
    "print(a)"
   ]
  },
  {
   "cell_type": "code",
   "execution_count": null,
   "metadata": {},
   "outputs": [],
   "source": [
    "print(dict([(1,2), (3,4), (5,6)]))"
   ]
  },
  {
   "cell_type": "code",
   "execution_count": null,
   "metadata": {},
   "outputs": [],
   "source": [
    "# Example: DNA to RNA\n",
    "\n",
    "dna_seq = 'ACGTGTCAGTGGGAC'\n",
    "dna_to_rna = {'A': 'A', 'C': 'C', 'G': 'G', 'T': 'U'}\n",
    "rna_letters = []\n",
    "\n",
    "for nt in dna_seq:\n",
    "    rna_letters.append(dna_to_rna[nt])\n",
    "    \n",
    "rna_seq = ''.join(rna_letters)\n",
    "print(rna_seq)"
   ]
  },
  {
   "cell_type": "code",
   "execution_count": null,
   "metadata": {},
   "outputs": [],
   "source": [
    "good_dict = {(0, 0): 0, (0, 1): 1, (1, 0): 2, (1, 1): 3}\n",
    "bad_dict = {[0, 0]: 0, [0, 1]: 1, [1, 0]: 2, [1, 1]: 3}"
   ]
  },
  {
   "cell_type": "code",
   "execution_count": null,
   "metadata": {},
   "outputs": [],
   "source": [
    "my_set = {1, 5, 6, 1, 1, 5}\n",
    "print(my_set)\n",
    "print(type(my_set))\n",
    "\n",
    "print(set([1, 5, 6, 1, 1, 5]))"
   ]
  },
  {
   "cell_type": "code",
   "execution_count": null,
   "metadata": {},
   "outputs": [],
   "source": [
    "seq = 'ATTTGATTTAGATAGATGATTT'\n",
    "print('The sequene of length %d has %d unique letters.' % (len(seq), len(set(seq))))"
   ]
  },
  {
   "cell_type": "code",
   "execution_count": null,
   "metadata": {},
   "outputs": [],
   "source": [
    "very_long_list = list(range(10 ** 6))\n",
    "very_big_set = set(very_long_list)\n",
    "number = 512311\n",
    "\n",
    "print(number in very_long_list) # Slow\n",
    "print(number in very_big_set) # Fast"
   ]
  },
  {
   "cell_type": "code",
   "execution_count": null,
   "metadata": {},
   "outputs": [],
   "source": [
    "my_set.add(55)\n",
    "my_set.add(1)\n",
    "my_set.add('one')\n",
    "print(my_set)"
   ]
  },
  {
   "cell_type": "code",
   "execution_count": null,
   "metadata": {},
   "outputs": [],
   "source": [
    "print({1, 2, 3} | {3, 4, 5})\n",
    "print({1, 2, 3} & {3, 4, 5})\n",
    "print({1, 2, 3} - {3, 4, 5})"
   ]
  }
 ],
 "metadata": {
  "jupytext": {
   "formats": "ipynb,py:light,md"
  },
  "kernelspec": {
   "display_name": "Python 3",
   "language": "python",
   "name": "python3"
  },
  "language_info": {
   "codemirror_mode": {
    "name": "ipython",
    "version": 3
   },
   "file_extension": ".py",
   "mimetype": "text/x-python",
   "name": "python",
   "nbconvert_exporter": "python",
   "pygments_lexer": "ipython3",
   "version": "3.8.5"
  }
 },
 "nbformat": 4,
 "nbformat_minor": 1
}
